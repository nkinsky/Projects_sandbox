{
 "cells": [
  {
   "cell_type": "markdown",
   "id": "01614ef3-ce7d-4076-aab4-6a2b88ca154c",
   "metadata": {},
   "source": [
    "This notebook walks through how to run a CCG on sleep deprivation data."
   ]
  },
  {
   "cell_type": "code",
   "execution_count": 22,
   "id": "46f5e340-a4eb-4e12-9a76-cbfccfbf5f22",
   "metadata": {},
   "outputs": [
    {
     "name": "stdout",
     "output_type": "stream",
     "text": [
      "The autoreload extension is already loaded. To reload it, use:\n",
      "  %reload_ext autoreload\n"
     ]
    }
   ],
   "source": [
    "%load_ext autoreload\n",
    "%autoreload 2\n",
    "import sys\n",
    "import platform\n",
    "from pathlib import Path\n",
    "from os import environ\n",
    "if platform.system() == \"Darwin\": # Nat laptop\n",
    "    sys.path.extend(['/Users/nkinsky/Documents/UM/GitHub/NeuroPy'])\n",
    "    plot_dir = Path(\"/Users/nkinsky/Documents/UM/Working/Bapun_Data/plots\")\n",
    "else:\n",
    "    if environ[\"HOSTNAME\"] == \"lnx00004\": # Nat Linux computer\n",
    "        sys.path.extend(['/data/GitHub/NeuroPy'])\n",
    "    elif environ[\"HOSTNAME\"] == \"lnx00035\": # BG computer\n",
    "        sys.path.extend(['/home/nkinsky/Documents/GitHub/NeuroPy'])\n",
    "    \n",
    "import numpy as np\n",
    "import pandas as pd\n",
    "import seaborn as sns\n",
    "from scipy import stats\n",
    "import scipy.signal as sg\n",
    "import matplotlib.pyplot as plt\n",
    "from neuropy.utils.mathutil import min_max_scaler\n",
    "from scipy.ndimage import gaussian_filter1d, gaussian_filter\n",
    "import pingouin as pg\n",
    "\n",
    "from neuropy.analyses.placefields import Pf1D\n",
    "from neuropy.core.neurons import Neurons\n",
    "from neuropy.core.position import Position\n",
    "from neuropy.core.epoch import Epoch\n",
    "from neuropy.plotting.ratemaps import plot_ratemap\n",
    "from neuropy.plotting.figure import Fig\n",
    "from neuropy.utils.misc import flatten\n",
    "from neuropy.io import BinarysignalIO\n",
    "from neuropy.core.session import ProcessData\n",
    "import neuropy.analyses.correlations as correlations\n",
    "\n",
    "plt.rcParams['pdf.fonttype'] = 42\n",
    "plt.rcParams['ps.fonttype'] = 42"
   ]
  },
  {
   "cell_type": "markdown",
   "id": "e12218f1-f07a-43c2-a900-5b30325fcde1",
   "metadata": {},
   "source": [
    "### Load in sleep deprivation session"
   ]
  },
  {
   "cell_type": "code",
   "execution_count": 12,
   "id": "1edff4ac-acb9-498e-bd62-9335cd190d08",
   "metadata": {},
   "outputs": [
    {
     "data": {
      "text/plain": [
       "[PosixPath('/data/Clustering/sessions/RatU/RatUDay1SD/RatU_Day1SD_2021-07-22_07-55-46.artifactchan.eeg'),\n",
       " PosixPath('/data/Clustering/sessions/RatU/RatUDay1SD/RatU_Day1SD_2021-07-22_07-55-46_thetachan.eeg'),\n",
       " PosixPath('/data/Clustering/sessions/RatU/RatUDay1SD/RatU_Day1SD_2021-07-22_07-55-46_thetachan_oriens.eeg'),\n",
       " PosixPath('/data/Clustering/sessions/RatU/RatUDay1SD/RatU_Day1SD_2021-07-22_07-55-46_thetachan_radiatum.eeg')]"
      ]
     },
     "execution_count": 12,
     "metadata": {},
     "output_type": "execute_result"
    }
   ],
   "source": [
    "sorted(data_dir.glob(\"*.eeg\"))"
   ]
  },
  {
   "cell_type": "code",
   "execution_count": 14,
   "id": "a78f3042-3ddc-4a2c-8d80-20665ab2f60b",
   "metadata": {},
   "outputs": [],
   "source": [
    "data_dir = Path(\"/data/Clustering/sessions/RatU/RatUDay4SD\")\n",
    "sess = ProcessData(data_dir)"
   ]
  },
  {
   "cell_type": "markdown",
   "id": "55fcadb5-1c66-4b1f-b7c0-b79c4352d1b0",
   "metadata": {},
   "source": [
    "### Load in neurons"
   ]
  },
  {
   "cell_type": "code",
   "execution_count": 20,
   "id": "171f9481-261a-4e0f-b615-c0664afb1d3d",
   "metadata": {},
   "outputs": [
    {
     "data": {
      "text/plain": [
       "Neurons\n",
       " n_neurons: 185\n",
       " t_start: 0.0\n",
       " t_stop: 48283.0336\n",
       " neuron_type: ['inter' 'mua' 'pyr']"
      ]
     },
     "execution_count": 20,
     "metadata": {},
     "output_type": "execute_result"
    }
   ],
   "source": [
    "# load in all neurons and neurons which were stable across sleep\n",
    "sess.neurons = Neurons.from_dict(np.load(sess.filePrefix.with_suffix(\".neurons.npy\"), allow_pickle=True).item())\n",
    "sess.neurons_stable = Neurons.from_dict(np.load(sess.filePrefix.with_suffix(\".neurons.stable.npy\"), allow_pickle=True).item())\n",
    "sess.neurons_stable"
   ]
  },
  {
   "cell_type": "code",
   "execution_count": 23,
   "id": "6bf94ccd-994d-45ed-a353-28ab0c2dfd63",
   "metadata": {},
   "outputs": [
    {
     "data": {
      "text/plain": [
       "Neurons\n",
       " n_neurons: 16\n",
       " t_start: 0.0\n",
       " t_stop: 48283.0336\n",
       " neuron_type: ['inter']"
      ]
     },
     "execution_count": 23,
     "metadata": {},
     "output_type": "execute_result"
    }
   ],
   "source": [
    "# Select inhibitory neurons\n",
    "interneurons = sess.neurons_stable.get_neuron_type(\"inter\")\n",
    "interneurons"
   ]
  },
  {
   "cell_type": "markdown",
   "id": "7f80c695-4455-41c8-a488-2c286489907f",
   "metadata": {},
   "source": [
    "### Run CCG"
   ]
  },
  {
   "cell_type": "code",
   "execution_count": 45,
   "id": "f359f68a-1435-4b2c-bc5e-d6d915d326ce",
   "metadata": {},
   "outputs": [
    {
     "data": {
      "image/png": "[encoded data removed]",
      "text/plain": [
       "<Figure size 640x480 with 1 Axes>"
      ]
     },
     "metadata": {},
     "output_type": "display_data"
    }
   ],
   "source": [
    "# get ccg between neurons 0 and 1\n",
    "neuron_inds = [0, 1]\n",
    "bin_size = 0.0005\n",
    "window_size = 0.02\n",
    "ccg = correlations.spike_correlations(interneurons, neuron_inds, sample_rate=sess.recinfo.dat_sampling_rate,\n",
    "                                      bin_size=bin_size, window_size=window_size)\n",
    "\n",
    "_, ax = plt.subplots()\n",
    "bins = np.arange(-window_size / 2, window_size / 2 + bin_size, bin_size)\n",
    "ax.bar(bins, ccg[0, 1], width=bin_size)\n",
    "ax.set_xlabel(\"Time (s\")\n",
    "ax.set_ylabel(\"Count\")\n",
    "sns.despine(ax=ax)"
   ]
  },
  {
   "cell_type": "markdown",
   "id": "aa1f0776-cbfa-4851-9e58-a76d93c2f545",
   "metadata": {},
   "source": [
    "### Run CCG for specific time windows"
   ]
  },
  {
   "cell_type": "code",
   "execution_count": 34,
   "id": "04ff5a6e-62b5-440c-9ba8-fb0eb1c9440f",
   "metadata": {},
   "outputs": [
    {
     "data": {
      "text/plain": [
       "6 epochs\n",
       "Snippet: \n",
       "    start   stop label\n",
       "0      0   9410   pre\n",
       "1   9411  12546  maze\n",
       "2  12547  30564    sd\n",
       "3  12547  45160  post\n",
       "4  30565  45160    rs"
      ]
     },
     "execution_count": 34,
     "metadata": {},
     "output_type": "execute_result"
    }
   ],
   "source": [
    "# Load in experimental time epochs\n",
    "sess.paradigm = Epoch.from_file(sess.filePrefix.with_suffix(\".paradigm.npy\"))\n",
    "sess.paradigm"
   ]
  },
  {
   "cell_type": "code",
   "execution_count": 38,
   "id": "4b8028c3-fbe8-4378-aaaf-f072adf48b4c",
   "metadata": {},
   "outputs": [
    {
     "data": {
      "text/plain": [
       "array([12547, 30564])"
      ]
     },
     "execution_count": 38,
     "metadata": {},
     "output_type": "execute_result"
    }
   ],
   "source": [
    "# Grab sleep deprivation (SD) and recovery sleep (RS) epochs\n",
    "sd_times = sess.paradigm[\"sd\"].flatten()\n",
    "rs_times = sess.paradigm[\"rs\"].flatten()\n",
    "sd_times"
   ]
  },
  {
   "cell_type": "code",
   "execution_count": 44,
   "id": "3c7e0db6-b5c4-4a59-8aa6-297ea8e0aef1",
   "metadata": {},
   "outputs": [
    {
     "data": {
      "image/png": "[encoded data removed]",
      "text/plain": [
       "<Figure size 900x200 with 2 Axes>"
      ]
     },
     "metadata": {},
     "output_type": "display_data"
    }
   ],
   "source": [
    "fig, axs = plt.subplots(1, 2, figsize=(9, 2))\n",
    "for epoch_name, time_lims, ax in zip([\"SD\", \"RS\"], [sd_times, rs_times], axs):\n",
    "    interneurons_slice = interneurons.time_slice(*time_lims)\n",
    "    ccg = correlations.spike_correlations(interneurons_slice, neuron_inds, sample_rate=sess.recinfo.dat_sampling_rate,\n",
    "                                          bin_size=bin_size, window_size=window_size)\n",
    "    \n",
    "    bins = np.arange(-window_size / 2, window_size / 2 + bin_size, bin_size)\n",
    "    ax.bar(bins, ccg[0, 1], width=bin_size)\n",
    "    ax.set_xlabel(\"Time (s\")\n",
    "    ax.set_ylabel(\"Count\")\n",
    "    ax.set_title(epoch_name)\n",
    "sns.despine(fig=fig)"
   ]
  }
 ],
 "metadata": {
  "kernelspec": {
   "display_name": "Python 3 (ipykernel)",
   "language": "python",
   "name": "python3"
  },
  "language_info": {
   "codemirror_mode": {
    "name": "ipython",
    "version": 3
   },
   "file_extension": ".py",
   "mimetype": "text/x-python",
   "name": "python",
   "nbconvert_exporter": "python",
   "pygments_lexer": "ipython3",
   "version": "3.11.6"
  },
  "widgets": {
   "application/vnd.jupyter.widget-state+json": {
    "state": {},
    "version_major": 2,
    "version_minor": 0
   }
  }
 },
 "nbformat": 4,
 "nbformat_minor": 5
}
