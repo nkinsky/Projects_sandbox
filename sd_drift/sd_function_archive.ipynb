{
 "cells": [
  {
   "attachments": {},
   "cell_type": "markdown",
   "metadata": {},
   "source": [
    "### Imports"
   ]
  },
  {
   "cell_type": "code",
   "execution_count": 1,
   "metadata": {},
   "outputs": [
    {
     "name": "stderr",
     "output_type": "stream",
     "text": [
      "/home/nkinsky/miniforge3/envs/NeuroPy/lib/python3.11/site-packages/outdated/utils.py:14: OutdatedPackageWarning: The package pingouin is out of date. Your version is 0.5.3, the latest is 0.5.5.\n",
      "Set the environment variable OUTDATED_IGNORE=1 to disable these warnings.\n",
      "  return warn(\n"
     ]
    }
   ],
   "source": [
    "%load_ext autoreload\n",
    "%autoreload 2\n",
    "import sys\n",
    "import platform\n",
    "from pathlib import Path\n",
    "from os import environ\n",
    "if platform.system() == \"Darwin\": # Nat laptop\n",
    "    sys.path.extend(['/Users/nkinsky/Documents/UM/GitHub/NeuroPy'])\n",
    "    sys.path.extend(['/Users/nkinsky/Documents/UM/GitHub/sleep_deprivation/DataPaths/'])\n",
    "    plot_dir = Path(\"/Users/nkinsky/Documents/UM/Working/Bapun_Data/plots\")\n",
    "else:\n",
    "    if environ[\"HOSTNAME\"] == \"lnx00004\": # Nat Linux computer\n",
    "        sys.path.extend(['/data/GitHub/NeuroPy'])\n",
    "        sys.path.extend(['/data/GitHub/sleep_loss_hippocampal_replay/analysis_and_figure_code/DataPaths'])\n",
    "        plot_dir = Path('/data/Clustering/plots')\n",
    "    else:  #BG computer\n",
    "        sys.path.extend(['/home/nkinsky/Documents/GitHub/NeuroPy'])\n",
    "        sys.path.extend(['/home/nkinsky/Documents/GitHubPrivate/pythonprogs/DataPaths/'])\n",
    "\n",
    "group_data_dir = Path('/data/Clustering/grpdata')\n",
    "    \n",
    "import numpy as np\n",
    "import pandas as pd\n",
    "import seaborn as sns\n",
    "from scipy import stats\n",
    "import pingouin as pg\n",
    "import scipy.signal as sg\n",
    "import matplotlib.pyplot as plt\n",
    "from neuropy.utils.mathutil import min_max_scaler\n",
    "from scipy.ndimage import gaussian_filter1d, gaussian_filter\n",
    "\n",
    "from neuropy import plotting\n",
    "from neuropy.analyses.placefields import Pf1D\n",
    "from neuropy.core.position import Position\n",
    "from neuropy.plotting.ratemaps import plot_ratemap\n",
    "from neuropy.plotting.figure import Fig\n",
    "from neuropy.utils.misc import flatten\n",
    "\n",
    "import subjects\n",
    "from stats_utils import bootstrap_resample\n",
    "\n",
    "plt.rcParams['pdf.fonttype'] = 42\n",
    "plt.rcParams['ps.fonttype'] = 42"
   ]
  },
  {
   "cell_type": "markdown",
   "metadata": {},
   "source": [
    "## Define useful functions"
   ]
  },
  {
   "cell_type": "code",
   "execution_count": null,
   "metadata": {},
   "outputs": [],
   "source": [
    "def pf_corr_maze_remaze(row, nbins_each_sesh=50):\n",
    "    \"\"\"Calculate PF correlation for each row/neuron. \n",
    "    \n",
    "    row: a DataFrame row of values (or 1d ndarray) where the first nbins_each_sesh bins \n",
    "    are firing rates for MAZE in each bin and the next nbins_each_sesh are for reMAZE\"\"\"\n",
    "    maze_tc = row.values[0:nbins_each_sesh]\n",
    "    remaze_tc = row.values[nbins_each_sesh:]\n",
    "    \n",
    "\n",
    "    return np.corrcoef([maze_tc, remaze_tc])[0, 1]"
   ]
  },
  {
   "cell_type": "code",
   "execution_count": null,
   "metadata": {},
   "outputs": [],
   "source": [
    "def get_pf_loc(row, nbins_each_sesh=50, end_prop=0.125):\n",
    "    \"\"\"Calculate placefield peak location\n",
    "    \n",
    "    row: a DataFrame row of values (or 1d ndarray) where the first nbins_each_sesh bins \n",
    "    are firing rates for MAZE in each bin and the next nbins_each_sesh are for reMAZE\n",
    "    \n",
    "    end_prop: propotion of the track corresponding to end - fields with locations less than end_prop or \n",
    "    more than 1 - end_prop are classified as 'end' pfs while the rest are classified as 'middle' pfs\"\"\"\n",
    "\n",
    "    # Get location on track\n",
    "    maze_tc = row.values[0:nbins_each_sesh]\n",
    "    imax = np.argmax(maze_tc)\n",
    "    \n",
    "    if (imax < (nbins_each_sesh * end_prop)) | (imax > (nbins_each_sesh - nbins_each_sesh * end_prop)):\n",
    "        loc = \"end\"\n",
    "    else:\n",
    "        loc = \"middle\"\n",
    "\n",
    "    return loc"
   ]
  },
  {
   "cell_type": "code",
   "execution_count": null,
   "metadata": {},
   "outputs": [],
   "source": [
    "def pf_corr_maze_remaze_ends(row, nbins_each_sesh=50, end_prop=0.125):\n",
    "    \"\"\"Calculate PF correlation for each row/neuron but only consider neurons with peaks in at the end of the tracks,\n",
    "    within `end_prop` of the end of the track\"\"\"\n",
    "\n",
    "    # Calculate correlations\n",
    "    pf_corr_row = pf_corr_maze_remaze(row, nbins_each_sesh=nbins_each_sesh)\n",
    "\n",
    "    # Get location on track\n",
    "    maze_tc = row.values[0:nbins_each_sesh]\n",
    "    imax = np.argmax(maze_tc)\n",
    "\n",
    "    if (imax < (nbins_each_sesh * end_prop)) | (imax > (nbins_each_sesh - nbins_each_sesh * end_prop)):\n",
    "        return pf_corr_row\n",
    "    else:\n",
    "        return np.nan\n"
   ]
  },
  {
   "cell_type": "code",
   "execution_count": null,
   "metadata": {},
   "outputs": [],
   "source": [
    "def pf_corr_maze_remaze_middle(row, nbins_each_sesh=50, end_prop=0.125):\n",
    "    \"\"\"Calculate PF correlation for each row/neuron but only consider neurons with peaks in at the end of the tracks,\n",
    "    within `end_prop` of the end of the track\"\"\"\n",
    "\n",
    "    # Calculate correlations\n",
    "    pf_corr_row = pf_corr_maze_remaze(row, nbins_each_sesh=nbins_each_sesh)\n",
    "\n",
    "    # Get location on track\n",
    "    maze_tc = row.values[0:nbins_each_sesh]\n",
    "    imax = np.argmax(maze_tc)\n",
    "\n",
    "    if (imax > (nbins_each_sesh * end_prop)) & (imax < (nbins_each_sesh - nbins_each_sesh * end_prop)):\n",
    "        return pf_corr_row\n",
    "    else:\n",
    "        return np.nan\n"
   ]
  },
  {
   "cell_type": "code",
   "execution_count": null,
   "metadata": {},
   "outputs": [],
   "source": [
    "def get_imax(row):\n",
    "    maze_tc = row.values[0:nbins_each_sesh]\n",
    "    imax = np.argmax(maze_tc)\n",
    "\n",
    "    return imax"
   ]
  },
  {
   "cell_type": "code",
   "execution_count": null,
   "metadata": {},
   "outputs": [],
   "source": [
    "def delta_rate_index(row, nbins_each_sesh=50, use_same_peak_bin=False):\n",
    "    \"\"\"Calculate change in max firing rate from MAZE to REMAZE for each row/neuron\"\"\"\n",
    "    maze_tc = row.values[0:nbins_each_sesh]\n",
    "    remaze_tc = row.values[nbins_each_sesh:]\n",
    "    \n",
    "    maze_max = np.nanmax(maze_tc)\n",
    "    remaze_max = np.nanmax(remaze_tc)\n",
    "    if use_same_peak_bin:\n",
    "        imax = np.argmax(maze_tc)\n",
    "        remaze_max = remaze_tc[imax]\n",
    "    \n",
    "    return (maze_max - remaze_max) / (maze_max + remaze_max)"
   ]
  },
  {
   "cell_type": "code",
   "execution_count": null,
   "metadata": {},
   "outputs": [],
   "source": [
    "def delta_pf_peak(row, nbins_each_sesh=50):\n",
    "    maze_tc = row.values[0:nbins_each_sesh]\n",
    "    remaze_tc = row.values[nbins_each_sesh:]\n",
    "\n",
    "    return np.argmax(maze_tc) - np.argmax(remaze_tc)"
   ]
  },
  {
   "cell_type": "code",
   "execution_count": null,
   "metadata": {},
   "outputs": [],
   "source": [
    "def get_number_of_fields(pf_peak_or_width_list):\n",
    "    nfields = [cell_peaks.size if ~np.all(np.isnan(cell_peaks)) else 0 for cell_peaks in pf_peak_or_width_list]\n",
    "\n",
    "    return nfields"
   ]
  },
  {
   "cell_type": "code",
   "execution_count": null,
   "metadata": {},
   "outputs": [],
   "source": [
    "df_bs"
   ]
  },
  {
   "cell_type": "code",
   "execution_count": null,
   "metadata": {},
   "outputs": [],
   "source": [
    "pd.read_csv(group_data_dir / \"remaze_fr_bootstrap.csv\", index_col=0)"
   ]
  },
  {
   "cell_type": "code",
   "execution_count": null,
   "metadata": {},
   "outputs": [],
   "source": [
    "pd.melt(df_bs, id_vars=[\"grp\"], value_vars=[\"MAZE\", \"reMAZE\"], var_name=\"session\", value_name=\"mean_frate\")"
   ]
  },
  {
   "cell_type": "code",
   "execution_count": null,
   "metadata": {},
   "outputs": [],
   "source": [
    "_, ax = plt.subplots()\n",
    "df2 = pd.melt(df_bs, id_vars=[\"grp\"], value_vars=[\"MAZE\", \"reMAZE\"], var_name=\"session\", value_name=\"mean_frate\")\n",
    "sns.boxplot(data=df2, x=\"grp\", y=\"mean_frate\", hue=\"session\", ax=ax)"
   ]
  },
  {
   "cell_type": "code",
   "execution_count": null,
   "metadata": {},
   "outputs": [],
   "source": [
    "fr_df_rs.neuron_type.unique()"
   ]
  },
  {
   "cell_type": "code",
   "execution_count": null,
   "metadata": {},
   "outputs": [],
   "source": [
    "fr_df_rs = fr_df.pivot_table(index=[\"grp\", \"session\", \"neuron_id\", \"neuron_type\"], \n",
    "                             columns=\"session_type\", \n",
    "                             values=\"mean_frate\").reset_index().drop(columns=\"neuron_id\")\n",
    "\n",
    "func = lambda df: df.drop([\"session\"], axis=1).groupby([\"grp\"]).mean().reset_index()\n",
    "df_use = fr_df_rs[fr_df_rs.neuron_type == \"inter\"].drop(columns=\"neuron_type\")\n",
    "df_bs = bootstrap_resample(df_use, level=\"both\", n_iter=1000, apply=func)\n",
    "df_bs"
   ]
  },
  {
   "cell_type": "code",
   "execution_count": null,
   "metadata": {},
   "outputs": [],
   "source": [
    "pd.melt(df_bs, id_vars=[\"grp\"], value_vars=[\"MAZE\", \"reMAZE\"], var_name=\"session\", value_name=\"mean_frate\")"
   ]
  },
  {
   "cell_type": "code",
   "execution_count": null,
   "metadata": {},
   "outputs": [],
   "source": [
    "_, ax = plt.subplots()\n",
    "df2 = pd.melt(df_bs, id_vars=[\"grp\"], value_vars=[\"MAZE\", \"reMAZE\"], var_name=\"session\", value_name=\"mean_frate\")\n",
    "sns.boxplot(data=df2, x=\"grp\", y=\"mean_frate\", hue=\"session\", ax=ax)"
   ]
  },
  {
   "cell_type": "code",
   "execution_count": null,
   "metadata": {},
   "outputs": [],
   "source": [
    "# Use to look at t-tests for each session - not that meaningful due to generally low n for most sessions with interneurons\n",
    "fr_use = fr_df[fr_df.neuron_type == \"inter\"]\n",
    "for sid in fr_use.session.unique():\n",
    "    print(pg.ttest(fr_use[(fr_use.session == sid) & (fr_use.session_type == \"MAZE\")][\"mean_frate\"],\n",
    "         fr_use[(fr_use.session == sid) & (fr_use.session_type == \"reMAZE\")][\"mean_frate\"],\n",
    "         paired=True))"
   ]
  },
  {
   "cell_type": "code",
   "execution_count": null,
   "metadata": {},
   "outputs": [],
   "source": [
    "fr_use = fr_df[fr_df.neuron_type == \"inter\"]\n",
    "\n",
    "# Significant drop of inhibition for SD group but not NSD group with paired t-test (for stable neurons only, doesn't hold if we include all)\n",
    "\n",
    "print(pg.ttest(fr_use[(fr_use.grp == \"SD\") & (fr_use.session_type == \"MAZE\")][\"mean_frate\"],\n",
    "         fr_use[(fr_use.grp == \"SD\") & (fr_use.session_type == \"reMAZE\")][\"mean_frate\"],\n",
    "         paired=True))\n",
    "\n",
    "# sstats.ks_2samp(fr_use[(fr_use.grp == \"SD\") & (fr_use.session_type == \"MAZE\")][\"mean_frate\"],\n",
    "#                 fr_use[(fr_use.grp == \"SD\") & (fr_use.session_type == \"reMAZE\")][\"mean_frate\"])\n",
    "\n",
    "# Distribution of interneuron firing rates is different between groups as well (stable neurons only, doesn't hold if we include all)\n",
    "stats.ks_2samp(fr_use[(fr_use.grp == \"SD\") & (fr_use.session_type == \"MAZE\")][\"delta_frate_maze_remaze\"],\n",
    "                fr_use[(fr_use.grp == \"NSD\") & (fr_use.session_type == \"MAZE\")][\"delta_frate_maze_remaze\"])"
   ]
  },
  {
   "cell_type": "code",
   "execution_count": null,
   "metadata": {},
   "outputs": [],
   "source": [
    "fig, axs = plt.subplots(2, 2, figsize=(4, 6))\n",
    "for ax, ntype, nname in zip(axs, [\"pyr\", \"inter\"], [\"Pyr. Cells\", \"Interneurons\"]):\n",
    "    fr_use = fr_df[fr_df.neuron_type == ntype]\n",
    "    print(f\"{ntype} below\")\n",
    "    print(pg.ttest(fr_use[(fr_use.grp == \"SD\") & (fr_use.session_type == \"MAZE\")][\"mean_frate\"],\n",
    "         fr_use[(fr_use.grp == \"SD\") & (fr_use.session_type == \"reMAZE\")][\"mean_frate\"],\n",
    "         paired=True))\n",
    "\n",
    "    for idg, (gname, a) in enumerate(zip([\"NSD\", \"SD\"], ax)):\n",
    "        pal_use = sns.color_palette()[idg:]\n",
    "        sns.lineplot(data=fr_df[(fr_df.neuron_type == ntype) & (fr_df.grp == gname)], x=\"session_type\", y=\"mean_frate\",\n",
    "                     hue=\"grp\", units=\"nid_unique\", estimator=None, legend=False, palette=pal_use, ax=a)\n",
    "        sns.stripplot(data=fr_df[(fr_df.neuron_type == ntype) & (fr_df.grp == gname)], x=\"session_type\", y=\"mean_frate\", \n",
    "                      hue=\"grp\", dodge=True, jitter=True, legend=False, palette=pal_use, ax=a)\n",
    "        a.set_title(f\"{gname}: {nname}\")\n",
    "        a.set_ylabel(\"Mean FR (Hz)\")\n",
    "        a.set_xlabel(\"\")\n",
    "\n",
    "sns.despine(fig=fig)\n",
    "\n",
    "fig.savefig(plot_dir / \"fr_stripplot_maze_v_remaze.pdf\")"
   ]
  },
  {
   "cell_type": "code",
   "execution_count": null,
   "metadata": {},
   "outputs": [],
   "source": [
    "# Create combined colormap, use cmap3[0::2] to plot dark colors and cmap[1::2] to plot same colors but in light / pastel\n",
    "cmap1 = sns.color_palette(as_cmap=True)\n",
    "cmap2 = sns.color_palette(\"pastel\", as_cmap=True)\n",
    "cmap3 = []\n",
    "for c1, c2 in zip(cmap1, cmap2):\n",
    "    cmap3.extend([c1, c2])\n"
   ]
  },
  {
   "cell_type": "code",
   "execution_count": null,
   "metadata": {},
   "outputs": [],
   "source": [
    "for ntype, nname in zip([\"pyr\", \"inter\"], [\"Pyramidal Cells\", \"Interneurons\"]):\n",
    "    fig, axs = plt.subplots(2, 2, figsize=(9, 9))\n",
    "    fig.suptitle(nname)\n",
    "\n",
    "    ax = axs[0]\n",
    "    sns.stripplot(data=fr_df[fr_df.neuron_type == ntype], x=\"grp\", y=\"mean_frate\", hue=\"session_type\", dodge=True, ax=ax[0])\n",
    "    # sns.lineplot(data=fr_df[fr_df.neuron_type == ntype], x=\"grp\", y=\"mean_frate\", hue=\"session_type\", units=\"unique_nid\", estimator=None, ax=ax[0])\n",
    "    sns.violinplot(data=fr_df[fr_df.neuron_type == ntype], x=\"grp\", y=\"mean_frate\", hue=\"session_type\", split=True, ax=ax[1])\n",
    "    [a.set_ylabel(\"Mean FR (Hz)\") for a in ax];\n",
    "    \n",
    "    ax2 = axs[1]\n",
    "    # sns.violinplot(data=fr_df[fr_df.neuron_type == ntype], x=\"neuron_type\", y=\"delta_frate_maze_remaze\", hue=\"grp\", split=True, ax=ax2[0])\n",
    "    sns.stripplot(data=fr_df[fr_df.neuron_type == ntype], y=\"delta_frate_maze_remaze\", hue=\"grp\", dodge=True, ax=ax2[0])\n",
    "    ax2[0].set_ylabel(r\"$FR_{MAZE} - FR_{reMAZE}$\")\n",
    "    ax2[0].set_xlabel(\"\")\n",
    "    sns.ecdfplot(data=fr_df[fr_df.neuron_type == ntype], x=\"delta_frate_maze_remaze\", hue=\"grp\", ax=ax2[1])\n",
    "    ax2[1].set_xlabel(r\"$FR_{MAZE} - FR_{reMAZE}$\")\n",
    "\n",
    "    sns.despine(fig=fig)\n",
    "    fig.savefig(plot_dir / f\"FR_{ntype}delta_comprenhensive.pdf\")"
   ]
  },
  {
   "cell_type": "code",
   "execution_count": null,
   "metadata": {},
   "outputs": [],
   "source": []
  }
 ],
 "metadata": {
  "kernelspec": {
   "display_name": "Python 3 (ipykernel)",
   "language": "python",
   "name": "python3"
  },
  "language_info": {
   "codemirror_mode": {
    "name": "ipython",
    "version": 3
   },
   "file_extension": ".py",
   "mimetype": "text/x-python",
   "name": "python",
   "nbconvert_exporter": "python",
   "pygments_lexer": "ipython3",
   "version": "3.11.6"
  },
  "widgets": {
   "application/vnd.jupyter.widget-state+json": {
    "state": {},
    "version_major": 2,
    "version_minor": 0
   }
  }
 },
 "nbformat": 4,
 "nbformat_minor": 4
}
