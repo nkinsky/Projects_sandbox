{
 "cells": [
  {
   "attachments": {},
   "cell_type": "markdown",
   "metadata": {},
   "source": [
    "### Imports"
   ]
  },
  {
   "cell_type": "code",
   "execution_count": 47,
   "metadata": {},
   "outputs": [
    {
     "name": "stdout",
     "output_type": "stream",
     "text": [
      "The autoreload extension is already loaded. To reload it, use:\n",
      "  %reload_ext autoreload\n"
     ]
    }
   ],
   "source": [
    "%load_ext autoreload\n",
    "%autoreload 2\n",
    "import sys\n",
    "import platform\n",
    "from pathlib import Path\n",
    "from os import environ\n",
    "if platform.system() == \"Darwin\": # Nat laptop\n",
    "    sys.path.extend(['/Users/nkinsky/Documents/UM/GitHub/NeuroPy'])\n",
    "    sys.path.extend(['/Users/nkinsky/Documents/UM/GitHub/sleep_deprivation/DataPaths/'])\n",
    "    plot_dir = Path(\"/Users/nkinsky/Documents/UM/Working/Bapun_Data/plots\")\n",
    "else:\n",
    "    if environ[\"HOSTNAME\"] == \"lnx00004\": # Nat Linux computer\n",
    "        sys.path.extend(['/data/GitHub/NeuroPy'])\n",
    "        sys.path.extend(['/data/GitHub/sleep_loss_hippocampal_replay/analysis_and_figure_code/DataPaths'])\n",
    "        plot_dir = Path('/data/Clustering/plots')\n",
    "    else:  #BG computer\n",
    "        sys.path.extend(['/home/nkinsky/Documents/GitHub/NeuroPy'])\n",
    "        sys.path.extend(['/home/nkinsky/Documents/GitHubPrivate/pythonprogs/DataPaths/'])\n",
    "\n",
    "group_data_dir = Path('/data/Clustering/grpdata')\n",
    "    \n",
    "import numpy as np\n",
    "import pandas as pd\n",
    "import seaborn as sns\n",
    "from scipy import stats\n",
    "import pingouin as pg\n",
    "import scipy.signal as sg\n",
    "import matplotlib.pyplot as plt\n",
    "from neuropy.utils.mathutil import min_max_scaler\n",
    "from scipy.ndimage import gaussian_filter1d, gaussian_filter\n",
    "\n",
    "from neuropy import plotting\n",
    "from neuropy.analyses.placefields import Pf1D\n",
    "from neuropy.core.position import Position\n",
    "from neuropy.plotting.ratemaps import plot_ratemap\n",
    "from neuropy.plotting.figure import Fig\n",
    "from neuropy.utils.misc import flatten\n",
    "\n",
    "import subjects\n",
    "from stats_utils import bootstrap_resample, get_bootstrap_prob, get_bootstrap_prob_paired\n",
    "\n",
    "plt.rcParams['pdf.fonttype'] = 42\n",
    "plt.rcParams['ps.fonttype'] = 42"
   ]
  },
  {
   "cell_type": "markdown",
   "metadata": {},
   "source": [
    "### Load in sessions"
   ]
  },
  {
   "cell_type": "code",
   "execution_count": 2,
   "metadata": {},
   "outputs": [],
   "source": [
    "#1st # = maze trials, 2nd # = remaze trial, 2 trials = 1 lap up/down\n",
    "ntrials_dict = {\"RatUDay2\": [25, 17], \"RatVDay1\": [23, 30], \"RatVDay3\": [163, 103],\n",
    "                \"RatSDay3\": [23, 16], \"RatUDay1\": [54, 4], \"RatUDay4\": [32, 4],\n",
    "                \"RatVDay2\": [79, 92], \"RatRDay2\": [41, 10]}\n",
    "sessions = subjects.remaze_sess()"
   ]
  },
  {
   "cell_type": "markdown",
   "metadata": {},
   "source": [
    "### Examine firing rates of interneurons in each session"
   ]
  },
  {
   "cell_type": "code",
   "execution_count": 59,
   "metadata": {},
   "outputs": [
    {
     "name": "stdout",
     "output_type": "stream",
     "text": [
      "Number of neurons: 123\n",
      "Number of neurons: 123\n",
      "Number of neurons: 249\n",
      "Number of neurons: 249\n",
      "Number of neurons: 99\n",
      "Number of neurons: 99\n",
      "Number of neurons: 95\n",
      "Number of neurons: 95\n",
      "Number of neurons: 95\n",
      "Number of neurons: 95\n",
      "Number of neurons: 66\n",
      "Number of neurons: 66\n",
      "Number of neurons: 185\n",
      "Number of neurons: 185\n",
      "Number of neurons: 62\n",
      "Number of neurons: 62\n",
      "Number of neurons: 49\n",
      "Number of neurons: 49\n"
     ]
    },
    {
     "data": {
      "text/html": [
       "<div>\n",
       "<style scoped>\n",
       "    .dataframe tbody tr th:only-of-type {\n",
       "        vertical-align: middle;\n",
       "    }\n",
       "\n",
       "    .dataframe tbody tr th {\n",
       "        vertical-align: top;\n",
       "    }\n",
       "\n",
       "    .dataframe thead th {\n",
       "        text-align: right;\n",
       "    }\n",
       "</style>\n",
       "<table border=\"1\" class=\"dataframe\">\n",
       "  <thead>\n",
       "    <tr style=\"text-align: right;\">\n",
       "      <th></th>\n",
       "      <th>neuron_type</th>\n",
       "      <th>neuron_id</th>\n",
       "      <th>nspikes</th>\n",
       "      <th>mean_frate</th>\n",
       "      <th>session_type</th>\n",
       "      <th>delta_frate_maze_remaze</th>\n",
       "      <th>grp</th>\n",
       "      <th>session</th>\n",
       "      <th>nid_unique</th>\n",
       "    </tr>\n",
       "  </thead>\n",
       "  <tbody>\n",
       "    <tr>\n",
       "      <th>0</th>\n",
       "      <td>pyr</td>\n",
       "      <td>0</td>\n",
       "      <td>777</td>\n",
       "      <td>0.211659</td>\n",
       "      <td>MAZE</td>\n",
       "      <td>0.125499</td>\n",
       "      <td>NSD</td>\n",
       "      <td>0</td>\n",
       "      <td>0_0</td>\n",
       "    </tr>\n",
       "    <tr>\n",
       "      <th>1</th>\n",
       "      <td>pyr</td>\n",
       "      <td>1</td>\n",
       "      <td>1994</td>\n",
       "      <td>0.543176</td>\n",
       "      <td>MAZE</td>\n",
       "      <td>-0.005908</td>\n",
       "      <td>NSD</td>\n",
       "      <td>0</td>\n",
       "      <td>0_1</td>\n",
       "    </tr>\n",
       "    <tr>\n",
       "      <th>2</th>\n",
       "      <td>mua</td>\n",
       "      <td>2</td>\n",
       "      <td>11173</td>\n",
       "      <td>3.043585</td>\n",
       "      <td>MAZE</td>\n",
       "      <td>0.579460</td>\n",
       "      <td>NSD</td>\n",
       "      <td>0</td>\n",
       "      <td>0_2</td>\n",
       "    </tr>\n",
       "    <tr>\n",
       "      <th>3</th>\n",
       "      <td>pyr</td>\n",
       "      <td>3</td>\n",
       "      <td>180</td>\n",
       "      <td>0.049033</td>\n",
       "      <td>MAZE</td>\n",
       "      <td>-0.058142</td>\n",
       "      <td>NSD</td>\n",
       "      <td>0</td>\n",
       "      <td>0_3</td>\n",
       "    </tr>\n",
       "    <tr>\n",
       "      <th>4</th>\n",
       "      <td>pyr</td>\n",
       "      <td>4</td>\n",
       "      <td>740</td>\n",
       "      <td>0.201580</td>\n",
       "      <td>MAZE</td>\n",
       "      <td>0.084198</td>\n",
       "      <td>NSD</td>\n",
       "      <td>0</td>\n",
       "      <td>0_4</td>\n",
       "    </tr>\n",
       "    <tr>\n",
       "      <th>...</th>\n",
       "      <td>...</td>\n",
       "      <td>...</td>\n",
       "      <td>...</td>\n",
       "      <td>...</td>\n",
       "      <td>...</td>\n",
       "      <td>...</td>\n",
       "      <td>...</td>\n",
       "      <td>...</td>\n",
       "      <td>...</td>\n",
       "    </tr>\n",
       "    <tr>\n",
       "      <th>2041</th>\n",
       "      <td>pyr</td>\n",
       "      <td>44</td>\n",
       "      <td>6841</td>\n",
       "      <td>1.760422</td>\n",
       "      <td>reMAZE</td>\n",
       "      <td>NaN</td>\n",
       "      <td>SD</td>\n",
       "      <td>8</td>\n",
       "      <td>8_44</td>\n",
       "    </tr>\n",
       "    <tr>\n",
       "      <th>2042</th>\n",
       "      <td>pyr</td>\n",
       "      <td>45</td>\n",
       "      <td>369</td>\n",
       "      <td>0.094956</td>\n",
       "      <td>reMAZE</td>\n",
       "      <td>NaN</td>\n",
       "      <td>SD</td>\n",
       "      <td>8</td>\n",
       "      <td>8_45</td>\n",
       "    </tr>\n",
       "    <tr>\n",
       "      <th>2043</th>\n",
       "      <td>pyr</td>\n",
       "      <td>46</td>\n",
       "      <td>6436</td>\n",
       "      <td>1.656202</td>\n",
       "      <td>reMAZE</td>\n",
       "      <td>NaN</td>\n",
       "      <td>SD</td>\n",
       "      <td>8</td>\n",
       "      <td>8_46</td>\n",
       "    </tr>\n",
       "    <tr>\n",
       "      <th>2044</th>\n",
       "      <td>pyr</td>\n",
       "      <td>47</td>\n",
       "      <td>98</td>\n",
       "      <td>0.025219</td>\n",
       "      <td>reMAZE</td>\n",
       "      <td>NaN</td>\n",
       "      <td>SD</td>\n",
       "      <td>8</td>\n",
       "      <td>8_47</td>\n",
       "    </tr>\n",
       "    <tr>\n",
       "      <th>2045</th>\n",
       "      <td>mua</td>\n",
       "      <td>48</td>\n",
       "      <td>1044</td>\n",
       "      <td>0.268657</td>\n",
       "      <td>reMAZE</td>\n",
       "      <td>NaN</td>\n",
       "      <td>SD</td>\n",
       "      <td>8</td>\n",
       "      <td>8_48</td>\n",
       "    </tr>\n",
       "  </tbody>\n",
       "</table>\n",
       "<p>2046 rows × 9 columns</p>\n",
       "</div>"
      ],
      "text/plain": [
       "     neuron_type  neuron_id  nspikes  mean_frate session_type  \\\n",
       "0            pyr          0      777    0.211659         MAZE   \n",
       "1            pyr          1     1994    0.543176         MAZE   \n",
       "2            mua          2    11173    3.043585         MAZE   \n",
       "3            pyr          3      180    0.049033         MAZE   \n",
       "4            pyr          4      740    0.201580         MAZE   \n",
       "...          ...        ...      ...         ...          ...   \n",
       "2041         pyr         44     6841    1.760422       reMAZE   \n",
       "2042         pyr         45      369    0.094956       reMAZE   \n",
       "2043         pyr         46     6436    1.656202       reMAZE   \n",
       "2044         pyr         47       98    0.025219       reMAZE   \n",
       "2045         mua         48     1044    0.268657       reMAZE   \n",
       "\n",
       "      delta_frate_maze_remaze  grp  session nid_unique  \n",
       "0                    0.125499  NSD        0        0_0  \n",
       "1                   -0.005908  NSD        0        0_1  \n",
       "2                    0.579460  NSD        0        0_2  \n",
       "3                   -0.058142  NSD        0        0_3  \n",
       "4                    0.084198  NSD        0        0_4  \n",
       "...                       ...  ...      ...        ...  \n",
       "2041                      NaN   SD        8       8_44  \n",
       "2042                      NaN   SD        8       8_45  \n",
       "2043                      NaN   SD        8       8_46  \n",
       "2044                      NaN   SD        8       8_47  \n",
       "2045                      NaN   SD        8       8_48  \n",
       "\n",
       "[2046 rows x 9 columns]"
      ]
     },
     "execution_count": 59,
     "metadata": {},
     "output_type": "execute_result"
    }
   ],
   "source": [
    "# Calculate mean firing rates\n",
    "neuron_type = \"stable\" # \"stable\" # 'all' or 'stable'\n",
    "fr_df = []\n",
    "for ids, sess in enumerate(sessions):\n",
    "    assert neuron_type in (\"all\", \"stable\")\n",
    "    neurons_use = sess.neurons if neuron_type == \"all\" else sess.neurons_stable\n",
    "    maze = sess.paradigm[\"maze\"].flatten()\n",
    "    remaze = sess.paradigm[\"re-maze\"].flatten()\n",
    "\n",
    "    fr_df_maze = neurons_use.time_slice(*maze).to_dataframe()\n",
    "    fr_df_maze[\"session_type\"] = \"MAZE\"\n",
    "    \n",
    "    fr_df_remaze = neurons_use.time_slice(*remaze).to_dataframe()\n",
    "    fr_df_remaze[\"session_type\"] = \"reMAZE\"\n",
    "\n",
    "    delta_fr = fr_df_maze[\"mean_frate\"] - fr_df_remaze[\"mean_frate\"]\n",
    "    fr_df_maze[\"delta_frate_maze_remaze\"] = delta_fr\n",
    "    fr_df_remaze[\"delta_frate_maze_remaze\"] = np.nan\n",
    "    \n",
    "    fr_df_temp = pd.concat((fr_df_maze, fr_df_remaze), axis=0)\n",
    "    fr_df_temp['neuron_id'] = fr_df_temp.index\n",
    "    \n",
    "    fr_df_temp[\"grp\"] = sess.tag\n",
    "    fr_df_temp[\"session\"] = ids\n",
    "\n",
    "    fr_df.append(fr_df_temp)\n",
    "    \n",
    "fr_df = pd.concat(fr_df, axis=0, ignore_index=True)\n",
    "fr_df[\"nid_unique\"] = fr_df.apply(lambda row: f\"{row.session}_{row.neuron_id}\", axis=1)\n",
    "fr_df.to_csv(group_data_dir / \"remaze_fr.csv\")\n",
    "fr_df"
   ]
  },
  {
   "cell_type": "markdown",
   "metadata": {},
   "source": [
    "### Bootstrap resample mean firing rates"
   ]
  },
  {
   "cell_type": "markdown",
   "metadata": {},
   "source": [
    "#### Mean rates first"
   ]
  },
  {
   "cell_type": "code",
   "execution_count": 31,
   "metadata": {},
   "outputs": [
    {
     "name": "stdout",
     "output_type": "stream",
     "text": [
      "pyr\n",
      "Running bootstraps for NSD group\n"
     ]
    },
    {
     "name": "stderr",
     "output_type": "stream",
     "text": [
      "100%|████████████████████████████████████| 10000/10000 [00:31<00:00, 315.75it/s]\n"
     ]
    },
    {
     "name": "stdout",
     "output_type": "stream",
     "text": [
      "Running bootstraps for SD group\n"
     ]
    },
    {
     "name": "stderr",
     "output_type": "stream",
     "text": [
      "100%|████████████████████████████████████| 10000/10000 [00:34<00:00, 286.36it/s]\n"
     ]
    },
    {
     "name": "stdout",
     "output_type": "stream",
     "text": [
      "inter\n",
      "Running bootstraps for NSD group\n"
     ]
    },
    {
     "name": "stderr",
     "output_type": "stream",
     "text": [
      "100%|████████████████████████████████████| 10000/10000 [00:29<00:00, 334.41it/s]\n"
     ]
    },
    {
     "name": "stdout",
     "output_type": "stream",
     "text": [
      "Running bootstraps for SD group\n"
     ]
    },
    {
     "name": "stderr",
     "output_type": "stream",
     "text": [
      "100%|████████████████████████████████████| 10000/10000 [00:34<00:00, 292.84it/s]\n"
     ]
    },
    {
     "name": "stdout",
     "output_type": "stream",
     "text": [
      "mua\n",
      "Running bootstraps for NSD group\n"
     ]
    },
    {
     "name": "stderr",
     "output_type": "stream",
     "text": [
      "100%|████████████████████████████████████| 10000/10000 [00:30<00:00, 329.57it/s]\n"
     ]
    },
    {
     "name": "stdout",
     "output_type": "stream",
     "text": [
      "Running bootstraps for SD group\n"
     ]
    },
    {
     "name": "stderr",
     "output_type": "stream",
     "text": [
      "100%|████████████████████████████████████| 10000/10000 [00:34<00:00, 286.49it/s]\n"
     ]
    },
    {
     "data": {
      "text/html": [
       "<div>\n",
       "<style scoped>\n",
       "    .dataframe tbody tr th:only-of-type {\n",
       "        vertical-align: middle;\n",
       "    }\n",
       "\n",
       "    .dataframe tbody tr th {\n",
       "        vertical-align: top;\n",
       "    }\n",
       "\n",
       "    .dataframe thead th {\n",
       "        text-align: right;\n",
       "    }\n",
       "</style>\n",
       "<table border=\"1\" class=\"dataframe\">\n",
       "  <thead>\n",
       "    <tr style=\"text-align: right;\">\n",
       "      <th></th>\n",
       "      <th>grp</th>\n",
       "      <th>session</th>\n",
       "      <th>mean_frate</th>\n",
       "      <th>neuron_type</th>\n",
       "    </tr>\n",
       "  </thead>\n",
       "  <tbody>\n",
       "    <tr>\n",
       "      <th>0</th>\n",
       "      <td>NSD</td>\n",
       "      <td>MAZE</td>\n",
       "      <td>1.091980</td>\n",
       "      <td>pyr</td>\n",
       "    </tr>\n",
       "    <tr>\n",
       "      <th>1</th>\n",
       "      <td>NSD</td>\n",
       "      <td>MAZE</td>\n",
       "      <td>1.304717</td>\n",
       "      <td>pyr</td>\n",
       "    </tr>\n",
       "    <tr>\n",
       "      <th>2</th>\n",
       "      <td>NSD</td>\n",
       "      <td>MAZE</td>\n",
       "      <td>1.095490</td>\n",
       "      <td>pyr</td>\n",
       "    </tr>\n",
       "    <tr>\n",
       "      <th>3</th>\n",
       "      <td>NSD</td>\n",
       "      <td>MAZE</td>\n",
       "      <td>1.062064</td>\n",
       "      <td>pyr</td>\n",
       "    </tr>\n",
       "    <tr>\n",
       "      <th>4</th>\n",
       "      <td>NSD</td>\n",
       "      <td>MAZE</td>\n",
       "      <td>0.940262</td>\n",
       "      <td>pyr</td>\n",
       "    </tr>\n",
       "    <tr>\n",
       "      <th>...</th>\n",
       "      <td>...</td>\n",
       "      <td>...</td>\n",
       "      <td>...</td>\n",
       "      <td>...</td>\n",
       "    </tr>\n",
       "    <tr>\n",
       "      <th>19995</th>\n",
       "      <td>SD</td>\n",
       "      <td>reMAZE</td>\n",
       "      <td>8.871773</td>\n",
       "      <td>mua</td>\n",
       "    </tr>\n",
       "    <tr>\n",
       "      <th>19996</th>\n",
       "      <td>SD</td>\n",
       "      <td>reMAZE</td>\n",
       "      <td>5.697908</td>\n",
       "      <td>mua</td>\n",
       "    </tr>\n",
       "    <tr>\n",
       "      <th>19997</th>\n",
       "      <td>SD</td>\n",
       "      <td>reMAZE</td>\n",
       "      <td>8.239004</td>\n",
       "      <td>mua</td>\n",
       "    </tr>\n",
       "    <tr>\n",
       "      <th>19998</th>\n",
       "      <td>SD</td>\n",
       "      <td>reMAZE</td>\n",
       "      <td>7.535709</td>\n",
       "      <td>mua</td>\n",
       "    </tr>\n",
       "    <tr>\n",
       "      <th>19999</th>\n",
       "      <td>SD</td>\n",
       "      <td>reMAZE</td>\n",
       "      <td>7.251417</td>\n",
       "      <td>mua</td>\n",
       "    </tr>\n",
       "  </tbody>\n",
       "</table>\n",
       "<p>120000 rows × 4 columns</p>\n",
       "</div>"
      ],
      "text/plain": [
       "       grp session  mean_frate neuron_type\n",
       "0      NSD    MAZE    1.091980         pyr\n",
       "1      NSD    MAZE    1.304717         pyr\n",
       "2      NSD    MAZE    1.095490         pyr\n",
       "3      NSD    MAZE    1.062064         pyr\n",
       "4      NSD    MAZE    0.940262         pyr\n",
       "...    ...     ...         ...         ...\n",
       "19995   SD  reMAZE    8.871773         mua\n",
       "19996   SD  reMAZE    5.697908         mua\n",
       "19997   SD  reMAZE    8.239004         mua\n",
       "19998   SD  reMAZE    7.535709         mua\n",
       "19999   SD  reMAZE    7.251417         mua\n",
       "\n",
       "[120000 rows x 4 columns]"
      ]
     },
     "execution_count": 31,
     "metadata": {},
     "output_type": "execute_result"
    }
   ],
   "source": [
    "fr_df_rs = fr_df.pivot_table(index=[\"grp\", \"session\", \"neuron_id\", \"neuron_type\"], \n",
    "                             columns=\"session_type\", \n",
    "                             values=\"mean_frate\").reset_index().drop(columns=\"neuron_id\")\n",
    "\n",
    "func = lambda df: df.drop([\"session\"], axis=1).groupby([\"grp\"]).mean().reset_index()\n",
    "df_bs_all = []\n",
    "for ntype in [\"pyr\", \"inter\", \"mua\"]:\n",
    "    print(ntype)\n",
    "    df_use = fr_df_rs[fr_df_rs.neuron_type == ntype].drop(columns=\"neuron_type\")\n",
    "    df_bs = bootstrap_resample(df_use, level=\"both\", n_iter=10000, apply=func)\n",
    "    df_bs = pd.melt(df_bs, id_vars=[\"grp\"], value_vars=[\"MAZE\", \"reMAZE\"], var_name=\"session\", value_name=\"mean_frate\", ignore_index=False)\n",
    "    df_bs[\"neuron_type\"] = ntype\n",
    "    df_bs_all.append(df_bs)\n",
    "\n",
    "df_bs = pd.concat(df_bs_all, axis=0, ignore_index=False)\n",
    "df_bs.to_csv(group_data_dir / \"remaze_fr_bootstrap.csv\")\n",
    "df_bs"
   ]
  },
  {
   "cell_type": "markdown",
   "metadata": {},
   "source": [
    "#### Delta rates second"
   ]
  },
  {
   "cell_type": "code",
   "execution_count": 61,
   "metadata": {},
   "outputs": [
    {
     "name": "stdout",
     "output_type": "stream",
     "text": [
      "pyr\n",
      "Running bootstraps for NSD group\n"
     ]
    },
    {
     "name": "stderr",
     "output_type": "stream",
     "text": [
      "100%|████████████████████████████████████| 10000/10000 [00:30<00:00, 329.41it/s]\n"
     ]
    },
    {
     "name": "stdout",
     "output_type": "stream",
     "text": [
      "Running bootstraps for SD group\n"
     ]
    },
    {
     "name": "stderr",
     "output_type": "stream",
     "text": [
      "100%|████████████████████████████████████| 10000/10000 [00:33<00:00, 300.70it/s]\n"
     ]
    },
    {
     "name": "stdout",
     "output_type": "stream",
     "text": [
      "inter\n",
      "Running bootstraps for NSD group\n"
     ]
    },
    {
     "name": "stderr",
     "output_type": "stream",
     "text": [
      "100%|████████████████████████████████████| 10000/10000 [00:29<00:00, 340.44it/s]\n"
     ]
    },
    {
     "name": "stdout",
     "output_type": "stream",
     "text": [
      "Running bootstraps for SD group\n"
     ]
    },
    {
     "name": "stderr",
     "output_type": "stream",
     "text": [
      "100%|████████████████████████████████████| 10000/10000 [00:33<00:00, 301.53it/s]\n"
     ]
    },
    {
     "name": "stdout",
     "output_type": "stream",
     "text": [
      "mua\n",
      "Running bootstraps for NSD group\n"
     ]
    },
    {
     "name": "stderr",
     "output_type": "stream",
     "text": [
      "100%|████████████████████████████████████| 10000/10000 [00:29<00:00, 338.96it/s]\n"
     ]
    },
    {
     "name": "stdout",
     "output_type": "stream",
     "text": [
      "Running bootstraps for SD group\n"
     ]
    },
    {
     "name": "stderr",
     "output_type": "stream",
     "text": [
      "100%|████████████████████████████████████| 10000/10000 [00:33<00:00, 300.45it/s]\n"
     ]
    },
    {
     "data": {
      "text/html": [
       "<div>\n",
       "<style scoped>\n",
       "    .dataframe tbody tr th:only-of-type {\n",
       "        vertical-align: middle;\n",
       "    }\n",
       "\n",
       "    .dataframe tbody tr th {\n",
       "        vertical-align: top;\n",
       "    }\n",
       "\n",
       "    .dataframe thead th {\n",
       "        text-align: right;\n",
       "    }\n",
       "</style>\n",
       "<table border=\"1\" class=\"dataframe\">\n",
       "  <thead>\n",
       "    <tr style=\"text-align: right;\">\n",
       "      <th></th>\n",
       "      <th>grp</th>\n",
       "      <th>session</th>\n",
       "      <th>delta_frate</th>\n",
       "      <th>neuron_type</th>\n",
       "    </tr>\n",
       "  </thead>\n",
       "  <tbody>\n",
       "    <tr>\n",
       "      <th>0</th>\n",
       "      <td>NSD</td>\n",
       "      <td>MAZE</td>\n",
       "      <td>0.263739</td>\n",
       "      <td>pyr</td>\n",
       "    </tr>\n",
       "    <tr>\n",
       "      <th>1</th>\n",
       "      <td>NSD</td>\n",
       "      <td>MAZE</td>\n",
       "      <td>0.016412</td>\n",
       "      <td>pyr</td>\n",
       "    </tr>\n",
       "    <tr>\n",
       "      <th>2</th>\n",
       "      <td>NSD</td>\n",
       "      <td>MAZE</td>\n",
       "      <td>0.204720</td>\n",
       "      <td>pyr</td>\n",
       "    </tr>\n",
       "    <tr>\n",
       "      <th>3</th>\n",
       "      <td>NSD</td>\n",
       "      <td>MAZE</td>\n",
       "      <td>0.043214</td>\n",
       "      <td>pyr</td>\n",
       "    </tr>\n",
       "    <tr>\n",
       "      <th>4</th>\n",
       "      <td>NSD</td>\n",
       "      <td>MAZE</td>\n",
       "      <td>0.289686</td>\n",
       "      <td>pyr</td>\n",
       "    </tr>\n",
       "    <tr>\n",
       "      <th>...</th>\n",
       "      <td>...</td>\n",
       "      <td>...</td>\n",
       "      <td>...</td>\n",
       "      <td>...</td>\n",
       "    </tr>\n",
       "    <tr>\n",
       "      <th>19995</th>\n",
       "      <td>SD</td>\n",
       "      <td>MAZE</td>\n",
       "      <td>0.773430</td>\n",
       "      <td>mua</td>\n",
       "    </tr>\n",
       "    <tr>\n",
       "      <th>19996</th>\n",
       "      <td>SD</td>\n",
       "      <td>MAZE</td>\n",
       "      <td>0.007888</td>\n",
       "      <td>mua</td>\n",
       "    </tr>\n",
       "    <tr>\n",
       "      <th>19997</th>\n",
       "      <td>SD</td>\n",
       "      <td>MAZE</td>\n",
       "      <td>-1.007258</td>\n",
       "      <td>mua</td>\n",
       "    </tr>\n",
       "    <tr>\n",
       "      <th>19998</th>\n",
       "      <td>SD</td>\n",
       "      <td>MAZE</td>\n",
       "      <td>-0.035485</td>\n",
       "      <td>mua</td>\n",
       "    </tr>\n",
       "    <tr>\n",
       "      <th>19999</th>\n",
       "      <td>SD</td>\n",
       "      <td>MAZE</td>\n",
       "      <td>-0.112259</td>\n",
       "      <td>mua</td>\n",
       "    </tr>\n",
       "  </tbody>\n",
       "</table>\n",
       "<p>60000 rows × 4 columns</p>\n",
       "</div>"
      ],
      "text/plain": [
       "       grp session  delta_frate neuron_type\n",
       "0      NSD    MAZE     0.263739         pyr\n",
       "1      NSD    MAZE     0.016412         pyr\n",
       "2      NSD    MAZE     0.204720         pyr\n",
       "3      NSD    MAZE     0.043214         pyr\n",
       "4      NSD    MAZE     0.289686         pyr\n",
       "...    ...     ...          ...         ...\n",
       "19995   SD    MAZE     0.773430         mua\n",
       "19996   SD    MAZE     0.007888         mua\n",
       "19997   SD    MAZE    -1.007258         mua\n",
       "19998   SD    MAZE    -0.035485         mua\n",
       "19999   SD    MAZE    -0.112259         mua\n",
       "\n",
       "[60000 rows x 4 columns]"
      ]
     },
     "execution_count": 61,
     "metadata": {},
     "output_type": "execute_result"
    }
   ],
   "source": [
    "fr_df_rs = fr_df.pivot_table(index=[\"grp\", \"session\", \"neuron_id\", \"neuron_type\"], \n",
    "                             columns=\"session_type\", \n",
    "                             values=\"delta_frate_maze_remaze\").reset_index().drop(columns=\"neuron_id\")\n",
    "\n",
    "func = lambda df: df.drop([\"session\"], axis=1).groupby([\"grp\"]).mean().reset_index()\n",
    "df_bs_all = []\n",
    "for ntype in [\"pyr\", \"inter\", \"mua\"]:\n",
    "    print(ntype)\n",
    "    df_use = fr_df_rs[fr_df_rs.neuron_type == ntype].drop(columns=\"neuron_type\")\n",
    "    df_bs = bootstrap_resample(df_use, level=\"both\", n_iter=10000, apply=func)\n",
    "    df_bs = pd.melt(df_bs, id_vars=[\"grp\"], value_vars=[\"MAZE\"], var_name=\"session\", value_name=\"delta_frate\", ignore_index=False)\n",
    "    df_bs[\"neuron_type\"] = ntype\n",
    "    df_bs_all.append(df_bs)\n",
    "\n",
    "df_bs = pd.concat(df_bs_all, axis=0, ignore_index=False)\n",
    "df_bs.to_csv(group_data_dir / \"remaze_fr_delta_bootstrap.csv\")\n",
    "df_bs"
   ]
  },
  {
   "cell_type": "code",
   "execution_count": 57,
   "metadata": {},
   "outputs": [
    {
     "data": {
      "text/plain": [
       "<Axes: xlabel='grp', ylabel='mean_frate'>"
      ]
     },
     "execution_count": 57,
     "metadata": {},
     "output_type": "execute_result"
    },
    {
     "data": {
      "image/png": "[encoded data removed]",
      "text/plain": [
       "<Figure size 640x480 with 1 Axes>"
      ]
     },
     "metadata": {},
     "output_type": "display_data"
    }
   ],
   "source": [
    "_, ax = plt.subplots()\n",
    "ntype = \"pyr\"\n",
    "df2 = df_bs[df_bs.neuron_type == ntype]\n",
    "df2_mean = fr_df[fr_df.neuron_type == ntype].groupby([\"grp\", \"session_type\", \"session\"]).mean(numeric_only=True)\n",
    "sns.boxplot(data=df2, x=\"grp\", y=\"mean_frate\", hue=\"session\", whis=(2.5, 97.5), showfliers=False, ax=ax)\n",
    "sns.stripplot(data=df2_mean, x=\"grp\", y=\"mean_frate\", hue=\"session_type\", dodge=True, edgecolor=\"w\", linewidth=0.5, ax=ax)"
   ]
  },
  {
   "cell_type": "code",
   "execution_count": 55,
   "metadata": {},
   "outputs": [
    {
     "data": {
      "text/plain": [
       "(0.24590336141255406, 0.008199999999999985)"
      ]
     },
     "execution_count": 55,
     "metadata": {},
     "output_type": "execute_result"
    }
   ],
   "source": [
    "grp = \"NSD\"\n",
    "df_grp = df2[df2.grp == grp]\n",
    "get_bootstrap_prob_paired(df_grp[df_grp.session == \"MAZE\"].mean_frate, df_grp[df_grp.session == \"reMAZE\"].mean_frate)"
   ]
  },
  {
   "cell_type": "code",
   "execution_count": null,
   "metadata": {},
   "outputs": [],
   "source": [
    "fr_df_rs.neuron_type.unique()"
   ]
  },
  {
   "cell_type": "code",
   "execution_count": null,
   "metadata": {},
   "outputs": [],
   "source": [
    "fr_df_rs = fr_df.pivot_table(index=[\"grp\", \"session\", \"neuron_id\", \"neuron_type\"], \n",
    "                             columns=\"session_type\", \n",
    "                             values=\"mean_frate\").reset_index().drop(columns=\"neuron_id\")\n",
    "\n",
    "func = lambda df: df.drop([\"session\"], axis=1).groupby([\"grp\"]).mean().reset_index()\n",
    "df_use = fr_df_rs[fr_df_rs.neuron_type == \"inter\"].drop(columns=\"neuron_type\")\n",
    "df_bs = bootstrap_resample(df_use, level=\"both\", n_iter=1000, apply=func)\n",
    "df_bs"
   ]
  },
  {
   "cell_type": "code",
   "execution_count": null,
   "metadata": {},
   "outputs": [],
   "source": [
    "pd.melt(df_bs, id_vars=[\"grp\"], value_vars=[\"MAZE\", \"reMAZE\"], var_name=\"session\", value_name=\"mean_frate\")"
   ]
  },
  {
   "cell_type": "code",
   "execution_count": null,
   "metadata": {},
   "outputs": [],
   "source": [
    "_, ax = plt.subplots()\n",
    "df2 = pd.melt(df_bs, id_vars=[\"grp\"], value_vars=[\"MAZE\", \"reMAZE\"], var_name=\"session\", value_name=\"mean_frate\")\n",
    "sns.boxplot(data=df2, x=\"grp\", y=\"mean_frate\", hue=\"session\", ax=ax)"
   ]
  },
  {
   "cell_type": "code",
   "execution_count": null,
   "metadata": {},
   "outputs": [],
   "source": [
    "# Use to look at t-tests for each session - not that meaningful due to generally low n for most sessions with interneurons\n",
    "fr_use = fr_df[fr_df.neuron_type == \"inter\"]\n",
    "for sid in fr_use.session.unique():\n",
    "    print(pg.ttest(fr_use[(fr_use.session == sid) & (fr_use.session_type == \"MAZE\")][\"mean_frate\"],\n",
    "         fr_use[(fr_use.session == sid) & (fr_use.session_type == \"reMAZE\")][\"mean_frate\"],\n",
    "         paired=True))"
   ]
  },
  {
   "cell_type": "code",
   "execution_count": null,
   "metadata": {},
   "outputs": [],
   "source": [
    "fr_use = fr_df[fr_df.neuron_type == \"inter\"]\n",
    "\n",
    "# Significant drop of inhibition for SD group but not NSD group with paired t-test (for stable neurons only, doesn't hold if we include all)\n",
    "\n",
    "print(pg.ttest(fr_use[(fr_use.grp == \"SD\") & (fr_use.session_type == \"MAZE\")][\"mean_frate\"],\n",
    "         fr_use[(fr_use.grp == \"SD\") & (fr_use.session_type == \"reMAZE\")][\"mean_frate\"],\n",
    "         paired=True))\n",
    "\n",
    "# sstats.ks_2samp(fr_use[(fr_use.grp == \"SD\") & (fr_use.session_type == \"MAZE\")][\"mean_frate\"],\n",
    "#                 fr_use[(fr_use.grp == \"SD\") & (fr_use.session_type == \"reMAZE\")][\"mean_frate\"])\n",
    "\n",
    "# Distribution of interneuron firing rates is different between groups as well (stable neurons only, doesn't hold if we include all)\n",
    "stats.ks_2samp(fr_use[(fr_use.grp == \"SD\") & (fr_use.session_type == \"MAZE\")][\"delta_frate_maze_remaze\"],\n",
    "                fr_use[(fr_use.grp == \"NSD\") & (fr_use.session_type == \"MAZE\")][\"delta_frate_maze_remaze\"])"
   ]
  },
  {
   "cell_type": "code",
   "execution_count": null,
   "metadata": {},
   "outputs": [],
   "source": [
    "fig, axs = plt.subplots(2, 2, figsize=(4, 6))\n",
    "for ax, ntype, nname in zip(axs, [\"pyr\", \"inter\"], [\"Pyr. Cells\", \"Interneurons\"]):\n",
    "    fr_use = fr_df[fr_df.neuron_type == ntype]\n",
    "    print(f\"{ntype} below\")\n",
    "    print(pg.ttest(fr_use[(fr_use.grp == \"SD\") & (fr_use.session_type == \"MAZE\")][\"mean_frate\"],\n",
    "         fr_use[(fr_use.grp == \"SD\") & (fr_use.session_type == \"reMAZE\")][\"mean_frate\"],\n",
    "         paired=True))\n",
    "\n",
    "    for idg, (gname, a) in enumerate(zip([\"NSD\", \"SD\"], ax)):\n",
    "        pal_use = sns.color_palette()[idg:]\n",
    "        sns.lineplot(data=fr_df[(fr_df.neuron_type == ntype) & (fr_df.grp == gname)], x=\"session_type\", y=\"mean_frate\",\n",
    "                     hue=\"grp\", units=\"nid_unique\", estimator=None, legend=False, palette=pal_use, ax=a)\n",
    "        sns.stripplot(data=fr_df[(fr_df.neuron_type == ntype) & (fr_df.grp == gname)], x=\"session_type\", y=\"mean_frate\", \n",
    "                      hue=\"grp\", dodge=True, jitter=True, legend=False, palette=pal_use, ax=a)\n",
    "        a.set_title(f\"{gname}: {nname}\")\n",
    "        a.set_ylabel(\"Mean FR (Hz)\")\n",
    "        a.set_xlabel(\"\")\n",
    "\n",
    "sns.despine(fig=fig)\n",
    "\n",
    "fig.savefig(plot_dir / \"fr_stripplot_maze_v_remaze.pdf\")"
   ]
  },
  {
   "cell_type": "code",
   "execution_count": null,
   "metadata": {},
   "outputs": [],
   "source": [
    "# Create combined colormap, use cmap3[0::2] to plot dark colors and cmap[1::2] to plot same colors but in light / pastel\n",
    "cmap1 = sns.color_palette(as_cmap=True)\n",
    "cmap2 = sns.color_palette(\"pastel\", as_cmap=True)\n",
    "cmap3 = []\n",
    "for c1, c2 in zip(cmap1, cmap2):\n",
    "    cmap3.extend([c1, c2])\n"
   ]
  },
  {
   "cell_type": "code",
   "execution_count": null,
   "metadata": {},
   "outputs": [],
   "source": [
    "for ntype, nname in zip([\"pyr\", \"inter\"], [\"Pyramidal Cells\", \"Interneurons\"]):\n",
    "    fig, axs = plt.subplots(2, 2, figsize=(9, 9))\n",
    "    fig.suptitle(nname)\n",
    "\n",
    "    ax = axs[0]\n",
    "    sns.stripplot(data=fr_df[fr_df.neuron_type == ntype], x=\"grp\", y=\"mean_frate\", hue=\"session_type\", dodge=True, ax=ax[0])\n",
    "    # sns.lineplot(data=fr_df[fr_df.neuron_type == ntype], x=\"grp\", y=\"mean_frate\", hue=\"session_type\", units=\"unique_nid\", estimator=None, ax=ax[0])\n",
    "    sns.violinplot(data=fr_df[fr_df.neuron_type == ntype], x=\"grp\", y=\"mean_frate\", hue=\"session_type\", split=True, ax=ax[1])\n",
    "    [a.set_ylabel(\"Mean FR (Hz)\") for a in ax];\n",
    "    \n",
    "    ax2 = axs[1]\n",
    "    # sns.violinplot(data=fr_df[fr_df.neuron_type == ntype], x=\"neuron_type\", y=\"delta_frate_maze_remaze\", hue=\"grp\", split=True, ax=ax2[0])\n",
    "    sns.stripplot(data=fr_df[fr_df.neuron_type == ntype], y=\"delta_frate_maze_remaze\", hue=\"grp\", dodge=True, ax=ax2[0])\n",
    "    ax2[0].set_ylabel(r\"$FR_{MAZE} - FR_{reMAZE}$\")\n",
    "    ax2[0].set_xlabel(\"\")\n",
    "    sns.ecdfplot(data=fr_df[fr_df.neuron_type == ntype], x=\"delta_frate_maze_remaze\", hue=\"grp\", ax=ax2[1])\n",
    "    ax2[1].set_xlabel(r\"$FR_{MAZE} - FR_{reMAZE}$\")\n",
    "\n",
    "    sns.despine(fig=fig)\n",
    "    fig.savefig(plot_dir / f\"FR_{ntype}delta_comprenhensive.pdf\")"
   ]
  },
  {
   "cell_type": "code",
   "execution_count": null,
   "metadata": {},
   "outputs": [],
   "source": []
  }
 ],
 "metadata": {
  "kernelspec": {
   "display_name": "Python 3 (ipykernel)",
   "language": "python",
   "name": "python3"
  },
  "language_info": {
   "codemirror_mode": {
    "name": "ipython",
    "version": 3
   },
   "file_extension": ".py",
   "mimetype": "text/x-python",
   "name": "python",
   "nbconvert_exporter": "python",
   "pygments_lexer": "ipython3",
   "version": "3.11.6"
  },
  "widgets": {
   "application/vnd.jupyter.widget-state+json": {
    "state": {},
    "version_major": 2,
    "version_minor": 0
   }
  }
 },
 "nbformat": 4,
 "nbformat_minor": 4
}
